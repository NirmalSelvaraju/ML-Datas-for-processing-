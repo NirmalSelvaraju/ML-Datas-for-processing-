{
  "nbformat": 4,
  "nbformat_minor": 0,
  "metadata": {
    "colab": {
      "name": "Air quality-Linear regression pre processing.ipynb",
      "provenance": [],
      "toc_visible": true,
      "authorship_tag": "ABX9TyOxYxjzUrtx9deTz9Ezz5Sn",
      "include_colab_link": true
    },
    "kernelspec": {
      "name": "python3",
      "display_name": "Python 3"
    },
    "language_info": {
      "name": "python"
    }
  },
  "cells": [
    {
      "cell_type": "markdown",
      "metadata": {
        "id": "view-in-github",
        "colab_type": "text"
      },
      "source": [
        "<a href=\"https://colab.research.google.com/github/NirmalSelvaraju/ML-Datas-for-processing-/blob/Branch1/Air_quality_Linear_regression_pre_processing.ipynb\" target=\"_parent\"><img src=\"https://colab.research.google.com/assets/colab-badge.svg\" alt=\"Open In Colab\"/></a>"
      ]
    },
    {
      "cell_type": "code",
      "metadata": {
        "id": "PxaVEjML7PHA"
      },
      "source": [
        "from google.colab import files"
      ],
      "execution_count": 1,
      "outputs": []
    },
    {
      "cell_type": "code",
      "metadata": {
        "colab": {
          "resources": {
            "http://localhost:8080/nbextensions/google.colab/files.js": {
              "data": "Ly8gQ29weXJpZ2h0IDIwMTcgR29vZ2xlIExMQwovLwovLyBMaWNlbnNlZCB1bmRlciB0aGUgQXBhY2hlIExpY2Vuc2UsIFZlcnNpb24gMi4wICh0aGUgIkxpY2Vuc2UiKTsKLy8geW91IG1heSBub3QgdXNlIHRoaXMgZmlsZSBleGNlcHQgaW4gY29tcGxpYW5jZSB3aXRoIHRoZSBMaWNlbnNlLgovLyBZb3UgbWF5IG9idGFpbiBhIGNvcHkgb2YgdGhlIExpY2Vuc2UgYXQKLy8KLy8gICAgICBodHRwOi8vd3d3LmFwYWNoZS5vcmcvbGljZW5zZXMvTElDRU5TRS0yLjAKLy8KLy8gVW5sZXNzIHJlcXVpcmVkIGJ5IGFwcGxpY2FibGUgbGF3IG9yIGFncmVlZCB0byBpbiB3cml0aW5nLCBzb2Z0d2FyZQovLyBkaXN0cmlidXRlZCB1bmRlciB0aGUgTGljZW5zZSBpcyBkaXN0cmlidXRlZCBvbiBhbiAiQVMgSVMiIEJBU0lTLAovLyBXSVRIT1VUIFdBUlJBTlRJRVMgT1IgQ09ORElUSU9OUyBPRiBBTlkgS0lORCwgZWl0aGVyIGV4cHJlc3Mgb3IgaW1wbGllZC4KLy8gU2VlIHRoZSBMaWNlbnNlIGZvciB0aGUgc3BlY2lmaWMgbGFuZ3VhZ2UgZ292ZXJuaW5nIHBlcm1pc3Npb25zIGFuZAovLyBsaW1pdGF0aW9ucyB1bmRlciB0aGUgTGljZW5zZS4KCi8qKgogKiBAZmlsZW92ZXJ2aWV3IEhlbHBlcnMgZm9yIGdvb2dsZS5jb2xhYiBQeXRob24gbW9kdWxlLgogKi8KKGZ1bmN0aW9uKHNjb3BlKSB7CmZ1bmN0aW9uIHNwYW4odGV4dCwgc3R5bGVBdHRyaWJ1dGVzID0ge30pIHsKICBjb25zdCBlbGVtZW50ID0gZG9jdW1lbnQuY3JlYXRlRWxlbWVudCgnc3BhbicpOwogIGVsZW1lbnQudGV4dENvbnRlbnQgPSB0ZXh0OwogIGZvciAoY29uc3Qga2V5IG9mIE9iamVjdC5rZXlzKHN0eWxlQXR0cmlidXRlcykpIHsKICAgIGVsZW1lbnQuc3R5bGVba2V5XSA9IHN0eWxlQXR0cmlidXRlc1trZXldOwogIH0KICByZXR1cm4gZWxlbWVudDsKfQoKLy8gTWF4IG51bWJlciBvZiBieXRlcyB3aGljaCB3aWxsIGJlIHVwbG9hZGVkIGF0IGEgdGltZS4KY29uc3QgTUFYX1BBWUxPQURfU0laRSA9IDEwMCAqIDEwMjQ7CgpmdW5jdGlvbiBfdXBsb2FkRmlsZXMoaW5wdXRJZCwgb3V0cHV0SWQpIHsKICBjb25zdCBzdGVwcyA9IHVwbG9hZEZpbGVzU3RlcChpbnB1dElkLCBvdXRwdXRJZCk7CiAgY29uc3Qgb3V0cHV0RWxlbWVudCA9IGRvY3VtZW50LmdldEVsZW1lbnRCeUlkKG91dHB1dElkKTsKICAvLyBDYWNoZSBzdGVwcyBvbiB0aGUgb3V0cHV0RWxlbWVudCB0byBtYWtlIGl0IGF2YWlsYWJsZSBmb3IgdGhlIG5leHQgY2FsbAogIC8vIHRvIHVwbG9hZEZpbGVzQ29udGludWUgZnJvbSBQeXRob24uCiAgb3V0cHV0RWxlbWVudC5zdGVwcyA9IHN0ZXBzOwoKICByZXR1cm4gX3VwbG9hZEZpbGVzQ29udGludWUob3V0cHV0SWQpOwp9CgovLyBUaGlzIGlzIHJvdWdobHkgYW4gYXN5bmMgZ2VuZXJhdG9yIChub3Qgc3VwcG9ydGVkIGluIHRoZSBicm93c2VyIHlldCksCi8vIHdoZXJlIHRoZXJlIGFyZSBtdWx0aXBsZSBhc3luY2hyb25vdXMgc3RlcHMgYW5kIHRoZSBQeXRob24gc2lkZSBpcyBnb2luZwovLyB0byBwb2xsIGZvciBjb21wbGV0aW9uIG9mIGVhY2ggc3RlcC4KLy8gVGhpcyB1c2VzIGEgUHJvbWlzZSB0byBibG9jayB0aGUgcHl0aG9uIHNpZGUgb24gY29tcGxldGlvbiBvZiBlYWNoIHN0ZXAsCi8vIHRoZW4gcGFzc2VzIHRoZSByZXN1bHQgb2YgdGhlIHByZXZpb3VzIHN0ZXAgYXMgdGhlIGlucHV0IHRvIHRoZSBuZXh0IHN0ZXAuCmZ1bmN0aW9uIF91cGxvYWRGaWxlc0NvbnRpbnVlKG91dHB1dElkKSB7CiAgY29uc3Qgb3V0cHV0RWxlbWVudCA9IGRvY3VtZW50LmdldEVsZW1lbnRCeUlkKG91dHB1dElkKTsKICBjb25zdCBzdGVwcyA9IG91dHB1dEVsZW1lbnQuc3RlcHM7CgogIGNvbnN0IG5leHQgPSBzdGVwcy5uZXh0KG91dHB1dEVsZW1lbnQubGFzdFByb21pc2VWYWx1ZSk7CiAgcmV0dXJuIFByb21pc2UucmVzb2x2ZShuZXh0LnZhbHVlLnByb21pc2UpLnRoZW4oKHZhbHVlKSA9PiB7CiAgICAvLyBDYWNoZSB0aGUgbGFzdCBwcm9taXNlIHZhbHVlIHRvIG1ha2UgaXQgYXZhaWxhYmxlIHRvIHRoZSBuZXh0CiAgICAvLyBzdGVwIG9mIHRoZSBnZW5lcmF0b3IuCiAgICBvdXRwdXRFbGVtZW50Lmxhc3RQcm9taXNlVmFsdWUgPSB2YWx1ZTsKICAgIHJldHVybiBuZXh0LnZhbHVlLnJlc3BvbnNlOwogIH0pOwp9CgovKioKICogR2VuZXJhdG9yIGZ1bmN0aW9uIHdoaWNoIGlzIGNhbGxlZCBiZXR3ZWVuIGVhY2ggYXN5bmMgc3RlcCBvZiB0aGUgdXBsb2FkCiAqIHByb2Nlc3MuCiAqIEBwYXJhbSB7c3RyaW5nfSBpbnB1dElkIEVsZW1lbnQgSUQgb2YgdGhlIGlucHV0IGZpbGUgcGlja2VyIGVsZW1lbnQuCiAqIEBwYXJhbSB7c3RyaW5nfSBvdXRwdXRJZCBFbGVtZW50IElEIG9mIHRoZSBvdXRwdXQgZGlzcGxheS4KICogQHJldHVybiB7IUl0ZXJhYmxlPCFPYmplY3Q+fSBJdGVyYWJsZSBvZiBuZXh0IHN0ZXBzLgogKi8KZnVuY3Rpb24qIHVwbG9hZEZpbGVzU3RlcChpbnB1dElkLCBvdXRwdXRJZCkgewogIGNvbnN0IGlucHV0RWxlbWVudCA9IGRvY3VtZW50LmdldEVsZW1lbnRCeUlkKGlucHV0SWQpOwogIGlucHV0RWxlbWVudC5kaXNhYmxlZCA9IGZhbHNlOwoKICBjb25zdCBvdXRwdXRFbGVtZW50ID0gZG9jdW1lbnQuZ2V0RWxlbWVudEJ5SWQob3V0cHV0SWQpOwogIG91dHB1dEVsZW1lbnQuaW5uZXJIVE1MID0gJyc7CgogIGNvbnN0IHBpY2tlZFByb21pc2UgPSBuZXcgUHJvbWlzZSgocmVzb2x2ZSkgPT4gewogICAgaW5wdXRFbGVtZW50LmFkZEV2ZW50TGlzdGVuZXIoJ2NoYW5nZScsIChlKSA9PiB7CiAgICAgIHJlc29sdmUoZS50YXJnZXQuZmlsZXMpOwogICAgfSk7CiAgfSk7CgogIGNvbnN0IGNhbmNlbCA9IGRvY3VtZW50LmNyZWF0ZUVsZW1lbnQoJ2J1dHRvbicpOwogIGlucHV0RWxlbWVudC5wYXJlbnRFbGVtZW50LmFwcGVuZENoaWxkKGNhbmNlbCk7CiAgY2FuY2VsLnRleHRDb250ZW50ID0gJ0NhbmNlbCB1cGxvYWQnOwogIGNvbnN0IGNhbmNlbFByb21pc2UgPSBuZXcgUHJvbWlzZSgocmVzb2x2ZSkgPT4gewogICAgY2FuY2VsLm9uY2xpY2sgPSAoKSA9PiB7CiAgICAgIHJlc29sdmUobnVsbCk7CiAgICB9OwogIH0pOwoKICAvLyBXYWl0IGZvciB0aGUgdXNlciB0byBwaWNrIHRoZSBmaWxlcy4KICBjb25zdCBmaWxlcyA9IHlpZWxkIHsKICAgIHByb21pc2U6IFByb21pc2UucmFjZShbcGlja2VkUHJvbWlzZSwgY2FuY2VsUHJvbWlzZV0pLAogICAgcmVzcG9uc2U6IHsKICAgICAgYWN0aW9uOiAnc3RhcnRpbmcnLAogICAgfQogIH07CgogIGNhbmNlbC5yZW1vdmUoKTsKCiAgLy8gRGlzYWJsZSB0aGUgaW5wdXQgZWxlbWVudCBzaW5jZSBmdXJ0aGVyIHBpY2tzIGFyZSBub3QgYWxsb3dlZC4KICBpbnB1dEVsZW1lbnQuZGlzYWJsZWQgPSB0cnVlOwoKICBpZiAoIWZpbGVzKSB7CiAgICByZXR1cm4gewogICAgICByZXNwb25zZTogewogICAgICAgIGFjdGlvbjogJ2NvbXBsZXRlJywKICAgICAgfQogICAgfTsKICB9CgogIGZvciAoY29uc3QgZmlsZSBvZiBmaWxlcykgewogICAgY29uc3QgbGkgPSBkb2N1bWVudC5jcmVhdGVFbGVtZW50KCdsaScpOwogICAgbGkuYXBwZW5kKHNwYW4oZmlsZS5uYW1lLCB7Zm9udFdlaWdodDogJ2JvbGQnfSkpOwogICAgbGkuYXBwZW5kKHNwYW4oCiAgICAgICAgYCgke2ZpbGUudHlwZSB8fCAnbi9hJ30pIC0gJHtmaWxlLnNpemV9IGJ5dGVzLCBgICsKICAgICAgICBgbGFzdCBtb2RpZmllZDogJHsKICAgICAgICAgICAgZmlsZS5sYXN0TW9kaWZpZWREYXRlID8gZmlsZS5sYXN0TW9kaWZpZWREYXRlLnRvTG9jYWxlRGF0ZVN0cmluZygpIDoKICAgICAgICAgICAgICAgICAgICAgICAgICAgICAgICAgICAgJ24vYSd9IC0gYCkpOwogICAgY29uc3QgcGVyY2VudCA9IHNwYW4oJzAlIGRvbmUnKTsKICAgIGxpLmFwcGVuZENoaWxkKHBlcmNlbnQpOwoKICAgIG91dHB1dEVsZW1lbnQuYXBwZW5kQ2hpbGQobGkpOwoKICAgIGNvbnN0IGZpbGVEYXRhUHJvbWlzZSA9IG5ldyBQcm9taXNlKChyZXNvbHZlKSA9PiB7CiAgICAgIGNvbnN0IHJlYWRlciA9IG5ldyBGaWxlUmVhZGVyKCk7CiAgICAgIHJlYWRlci5vbmxvYWQgPSAoZSkgPT4gewogICAgICAgIHJlc29sdmUoZS50YXJnZXQucmVzdWx0KTsKICAgICAgfTsKICAgICAgcmVhZGVyLnJlYWRBc0FycmF5QnVmZmVyKGZpbGUpOwogICAgfSk7CiAgICAvLyBXYWl0IGZvciB0aGUgZGF0YSB0byBiZSByZWFkeS4KICAgIGxldCBmaWxlRGF0YSA9IHlpZWxkIHsKICAgICAgcHJvbWlzZTogZmlsZURhdGFQcm9taXNlLAogICAgICByZXNwb25zZTogewogICAgICAgIGFjdGlvbjogJ2NvbnRpbnVlJywKICAgICAgfQogICAgfTsKCiAgICAvLyBVc2UgYSBjaHVua2VkIHNlbmRpbmcgdG8gYXZvaWQgbWVzc2FnZSBzaXplIGxpbWl0cy4gU2VlIGIvNjIxMTU2NjAuCiAgICBsZXQgcG9zaXRpb24gPSAwOwogICAgZG8gewogICAgICBjb25zdCBsZW5ndGggPSBNYXRoLm1pbihmaWxlRGF0YS5ieXRlTGVuZ3RoIC0gcG9zaXRpb24sIE1BWF9QQVlMT0FEX1NJWkUpOwogICAgICBjb25zdCBjaHVuayA9IG5ldyBVaW50OEFycmF5KGZpbGVEYXRhLCBwb3NpdGlvbiwgbGVuZ3RoKTsKICAgICAgcG9zaXRpb24gKz0gbGVuZ3RoOwoKICAgICAgY29uc3QgYmFzZTY0ID0gYnRvYShTdHJpbmcuZnJvbUNoYXJDb2RlLmFwcGx5KG51bGwsIGNodW5rKSk7CiAgICAgIHlpZWxkIHsKICAgICAgICByZXNwb25zZTogewogICAgICAgICAgYWN0aW9uOiAnYXBwZW5kJywKICAgICAgICAgIGZpbGU6IGZpbGUubmFtZSwKICAgICAgICAgIGRhdGE6IGJhc2U2NCwKICAgICAgICB9LAogICAgICB9OwoKICAgICAgbGV0IHBlcmNlbnREb25lID0gZmlsZURhdGEuYnl0ZUxlbmd0aCA9PT0gMCA/CiAgICAgICAgICAxMDAgOgogICAgICAgICAgTWF0aC5yb3VuZCgocG9zaXRpb24gLyBmaWxlRGF0YS5ieXRlTGVuZ3RoKSAqIDEwMCk7CiAgICAgIHBlcmNlbnQudGV4dENvbnRlbnQgPSBgJHtwZXJjZW50RG9uZX0lIGRvbmVgOwoKICAgIH0gd2hpbGUgKHBvc2l0aW9uIDwgZmlsZURhdGEuYnl0ZUxlbmd0aCk7CiAgfQoKICAvLyBBbGwgZG9uZS4KICB5aWVsZCB7CiAgICByZXNwb25zZTogewogICAgICBhY3Rpb246ICdjb21wbGV0ZScsCiAgICB9CiAgfTsKfQoKc2NvcGUuZ29vZ2xlID0gc2NvcGUuZ29vZ2xlIHx8IHt9OwpzY29wZS5nb29nbGUuY29sYWIgPSBzY29wZS5nb29nbGUuY29sYWIgfHwge307CnNjb3BlLmdvb2dsZS5jb2xhYi5fZmlsZXMgPSB7CiAgX3VwbG9hZEZpbGVzLAogIF91cGxvYWRGaWxlc0NvbnRpbnVlLAp9Owp9KShzZWxmKTsK",
              "ok": true,
              "headers": [
                [
                  "content-type",
                  "application/javascript"
                ]
              ],
              "status": 200,
              "status_text": ""
            }
          },
          "base_uri": "https://localhost:8080/",
          "height": 74
        },
        "id": "stqaBl8D7smE",
        "outputId": "5850577e-a86f-4dae-e8c6-32649efc8bf5"
      },
      "source": [
        "upload = files.upload()"
      ],
      "execution_count": 2,
      "outputs": [
        {
          "output_type": "display_data",
          "data": {
            "text/html": [
              "\n",
              "     <input type=\"file\" id=\"files-46088615-e345-45b6-8ded-89d0372a47fb\" name=\"files[]\" multiple disabled\n",
              "        style=\"border:none\" />\n",
              "     <output id=\"result-46088615-e345-45b6-8ded-89d0372a47fb\">\n",
              "      Upload widget is only available when the cell has been executed in the\n",
              "      current browser session. Please rerun this cell to enable.\n",
              "      </output>\n",
              "      <script src=\"/nbextensions/google.colab/files.js\"></script> "
            ],
            "text/plain": [
              "<IPython.core.display.HTML object>"
            ]
          },
          "metadata": {}
        },
        {
          "output_type": "stream",
          "name": "stdout",
          "text": [
            "Saving AirQualityUCI.xlsx to AirQualityUCI.xlsx\n"
          ]
        }
      ]
    },
    {
      "cell_type": "code",
      "metadata": {
        "id": "CvVhwNLS74Kq"
      },
      "source": [
        "import pandas as pd\n",
        "import numpy as np\n",
        "import matplotlib.pyplot as plt"
      ],
      "execution_count": 4,
      "outputs": []
    },
    {
      "cell_type": "code",
      "metadata": {
        "id": "nZ33k2Lb8DTx"
      },
      "source": [
        "df=pd.read_excel(\"AirQualityUCI.xlsx\")"
      ],
      "execution_count": 5,
      "outputs": []
    },
    {
      "cell_type": "code",
      "metadata": {
        "colab": {
          "base_uri": "https://localhost:8080/",
          "height": 617
        },
        "id": "skuxZ4J589JI",
        "outputId": "7499ab9c-fa6a-4282-c1c1-fddf90741c63"
      },
      "source": [
        "df"
      ],
      "execution_count": 6,
      "outputs": [
        {
          "output_type": "execute_result",
          "data": {
            "text/html": [
              "<div>\n",
              "<style scoped>\n",
              "    .dataframe tbody tr th:only-of-type {\n",
              "        vertical-align: middle;\n",
              "    }\n",
              "\n",
              "    .dataframe tbody tr th {\n",
              "        vertical-align: top;\n",
              "    }\n",
              "\n",
              "    .dataframe thead th {\n",
              "        text-align: right;\n",
              "    }\n",
              "</style>\n",
              "<table border=\"1\" class=\"dataframe\">\n",
              "  <thead>\n",
              "    <tr style=\"text-align: right;\">\n",
              "      <th></th>\n",
              "      <th>Date</th>\n",
              "      <th>Time</th>\n",
              "      <th>CO(GT)</th>\n",
              "      <th>PT08.S1(CO)</th>\n",
              "      <th>NMHC(GT)</th>\n",
              "      <th>C6H6(GT)</th>\n",
              "      <th>PT08.S2(NMHC)</th>\n",
              "      <th>NOx(GT)</th>\n",
              "      <th>PT08.S3(NOx)</th>\n",
              "      <th>NO2(GT)</th>\n",
              "      <th>PT08.S4(NO2)</th>\n",
              "      <th>PT08.S5(O3)</th>\n",
              "      <th>T</th>\n",
              "      <th>RH</th>\n",
              "      <th>AH</th>\n",
              "    </tr>\n",
              "  </thead>\n",
              "  <tbody>\n",
              "    <tr>\n",
              "      <th>0</th>\n",
              "      <td>2004-12-13</td>\n",
              "      <td>18:00:00</td>\n",
              "      <td>9.9</td>\n",
              "      <td>1881.00</td>\n",
              "      <td>-200</td>\n",
              "      <td>50.779533</td>\n",
              "      <td>1983.00</td>\n",
              "      <td>1479.0</td>\n",
              "      <td>333.50</td>\n",
              "      <td>269.0</td>\n",
              "      <td>2271.25</td>\n",
              "      <td>2522.75</td>\n",
              "      <td>12.625</td>\n",
              "      <td>55.900000</td>\n",
              "      <td>0.814174</td>\n",
              "    </tr>\n",
              "    <tr>\n",
              "      <th>1</th>\n",
              "      <td>2004-11-23</td>\n",
              "      <td>19:00:00</td>\n",
              "      <td>11.9</td>\n",
              "      <td>2007.75</td>\n",
              "      <td>-200</td>\n",
              "      <td>50.632826</td>\n",
              "      <td>1980.25</td>\n",
              "      <td>1389.0</td>\n",
              "      <td>324.50</td>\n",
              "      <td>220.0</td>\n",
              "      <td>2562.00</td>\n",
              "      <td>2341.50</td>\n",
              "      <td>12.425</td>\n",
              "      <td>74.699999</td>\n",
              "      <td>1.074080</td>\n",
              "    </tr>\n",
              "    <tr>\n",
              "      <th>2</th>\n",
              "      <td>2004-11-26</td>\n",
              "      <td>18:00:00</td>\n",
              "      <td>10.1</td>\n",
              "      <td>1956.00</td>\n",
              "      <td>-200</td>\n",
              "      <td>45.243622</td>\n",
              "      <td>1876.75</td>\n",
              "      <td>1389.0</td>\n",
              "      <td>347.25</td>\n",
              "      <td>255.0</td>\n",
              "      <td>2338.00</td>\n",
              "      <td>2465.00</td>\n",
              "      <td>15.500</td>\n",
              "      <td>62.775000</td>\n",
              "      <td>1.097947</td>\n",
              "    </tr>\n",
              "    <tr>\n",
              "      <th>3</th>\n",
              "      <td>2004-11-23</td>\n",
              "      <td>18:00:00</td>\n",
              "      <td>10.2</td>\n",
              "      <td>1982.25</td>\n",
              "      <td>-200</td>\n",
              "      <td>49.492093</td>\n",
              "      <td>1958.75</td>\n",
              "      <td>1369.0</td>\n",
              "      <td>322.00</td>\n",
              "      <td>227.0</td>\n",
              "      <td>2535.50</td>\n",
              "      <td>2385.50</td>\n",
              "      <td>13.150</td>\n",
              "      <td>72.600000</td>\n",
              "      <td>1.093646</td>\n",
              "    </tr>\n",
              "    <tr>\n",
              "      <th>4</th>\n",
              "      <td>2004-11-23</td>\n",
              "      <td>20:00:00</td>\n",
              "      <td>11.5</td>\n",
              "      <td>1917.75</td>\n",
              "      <td>-200</td>\n",
              "      <td>49.439305</td>\n",
              "      <td>1957.75</td>\n",
              "      <td>1358.0</td>\n",
              "      <td>334.50</td>\n",
              "      <td>190.0</td>\n",
              "      <td>2476.50</td>\n",
              "      <td>2236.75</td>\n",
              "      <td>11.500</td>\n",
              "      <td>76.225000</td>\n",
              "      <td>1.032431</td>\n",
              "    </tr>\n",
              "    <tr>\n",
              "      <th>...</th>\n",
              "      <td>...</td>\n",
              "      <td>...</td>\n",
              "      <td>...</td>\n",
              "      <td>...</td>\n",
              "      <td>...</td>\n",
              "      <td>...</td>\n",
              "      <td>...</td>\n",
              "      <td>...</td>\n",
              "      <td>...</td>\n",
              "      <td>...</td>\n",
              "      <td>...</td>\n",
              "      <td>...</td>\n",
              "      <td>...</td>\n",
              "      <td>...</td>\n",
              "      <td>...</td>\n",
              "    </tr>\n",
              "    <tr>\n",
              "      <th>9352</th>\n",
              "      <td>2004-09-08</td>\n",
              "      <td>12:00:00</td>\n",
              "      <td>-200.0</td>\n",
              "      <td>-200.00</td>\n",
              "      <td>-200</td>\n",
              "      <td>-200.000000</td>\n",
              "      <td>-200.00</td>\n",
              "      <td>-200.0</td>\n",
              "      <td>-200.00</td>\n",
              "      <td>-200.0</td>\n",
              "      <td>-200.00</td>\n",
              "      <td>-200.00</td>\n",
              "      <td>-200.000</td>\n",
              "      <td>-200.000000</td>\n",
              "      <td>-200.000000</td>\n",
              "    </tr>\n",
              "    <tr>\n",
              "      <th>9353</th>\n",
              "      <td>2004-09-08</td>\n",
              "      <td>13:00:00</td>\n",
              "      <td>-200.0</td>\n",
              "      <td>-200.00</td>\n",
              "      <td>-200</td>\n",
              "      <td>-200.000000</td>\n",
              "      <td>-200.00</td>\n",
              "      <td>-200.0</td>\n",
              "      <td>-200.00</td>\n",
              "      <td>-200.0</td>\n",
              "      <td>-200.00</td>\n",
              "      <td>-200.00</td>\n",
              "      <td>-200.000</td>\n",
              "      <td>-200.000000</td>\n",
              "      <td>-200.000000</td>\n",
              "    </tr>\n",
              "    <tr>\n",
              "      <th>9354</th>\n",
              "      <td>2004-09-08</td>\n",
              "      <td>14:00:00</td>\n",
              "      <td>-200.0</td>\n",
              "      <td>-200.00</td>\n",
              "      <td>-200</td>\n",
              "      <td>-200.000000</td>\n",
              "      <td>-200.00</td>\n",
              "      <td>-200.0</td>\n",
              "      <td>-200.00</td>\n",
              "      <td>-200.0</td>\n",
              "      <td>-200.00</td>\n",
              "      <td>-200.00</td>\n",
              "      <td>-200.000</td>\n",
              "      <td>-200.000000</td>\n",
              "      <td>-200.000000</td>\n",
              "    </tr>\n",
              "    <tr>\n",
              "      <th>9355</th>\n",
              "      <td>2004-09-08</td>\n",
              "      <td>15:00:00</td>\n",
              "      <td>-200.0</td>\n",
              "      <td>-200.00</td>\n",
              "      <td>-200</td>\n",
              "      <td>-200.000000</td>\n",
              "      <td>-200.00</td>\n",
              "      <td>-200.0</td>\n",
              "      <td>-200.00</td>\n",
              "      <td>-200.0</td>\n",
              "      <td>-200.00</td>\n",
              "      <td>-200.00</td>\n",
              "      <td>-200.000</td>\n",
              "      <td>-200.000000</td>\n",
              "      <td>-200.000000</td>\n",
              "    </tr>\n",
              "    <tr>\n",
              "      <th>9356</th>\n",
              "      <td>2004-09-08</td>\n",
              "      <td>16:00:00</td>\n",
              "      <td>-200.0</td>\n",
              "      <td>-200.00</td>\n",
              "      <td>-200</td>\n",
              "      <td>-200.000000</td>\n",
              "      <td>-200.00</td>\n",
              "      <td>-200.0</td>\n",
              "      <td>-200.00</td>\n",
              "      <td>-200.0</td>\n",
              "      <td>-200.00</td>\n",
              "      <td>-200.00</td>\n",
              "      <td>-200.000</td>\n",
              "      <td>-200.000000</td>\n",
              "      <td>-200.000000</td>\n",
              "    </tr>\n",
              "  </tbody>\n",
              "</table>\n",
              "<p>9357 rows × 15 columns</p>\n",
              "</div>"
            ],
            "text/plain": [
              "           Date      Time  CO(GT)  ...        T          RH          AH\n",
              "0    2004-12-13  18:00:00     9.9  ...   12.625   55.900000    0.814174\n",
              "1    2004-11-23  19:00:00    11.9  ...   12.425   74.699999    1.074080\n",
              "2    2004-11-26  18:00:00    10.1  ...   15.500   62.775000    1.097947\n",
              "3    2004-11-23  18:00:00    10.2  ...   13.150   72.600000    1.093646\n",
              "4    2004-11-23  20:00:00    11.5  ...   11.500   76.225000    1.032431\n",
              "...         ...       ...     ...  ...      ...         ...         ...\n",
              "9352 2004-09-08  12:00:00  -200.0  ... -200.000 -200.000000 -200.000000\n",
              "9353 2004-09-08  13:00:00  -200.0  ... -200.000 -200.000000 -200.000000\n",
              "9354 2004-09-08  14:00:00  -200.0  ... -200.000 -200.000000 -200.000000\n",
              "9355 2004-09-08  15:00:00  -200.0  ... -200.000 -200.000000 -200.000000\n",
              "9356 2004-09-08  16:00:00  -200.0  ... -200.000 -200.000000 -200.000000\n",
              "\n",
              "[9357 rows x 15 columns]"
            ]
          },
          "metadata": {},
          "execution_count": 6
        }
      ]
    },
    {
      "cell_type": "code",
      "metadata": {
        "colab": {
          "base_uri": "https://localhost:8080/",
          "height": 828
        },
        "id": "JxwPBbzH8-ZQ",
        "outputId": "1055714a-078f-49e7-b9c6-6d398f58d6fd"
      },
      "source": [
        "for column in df:\n",
        "    plt.figure(figsize=(20,15))\n",
        "    df.boxplot([\"CO(GT)\",\"PT08.S1(CO)\",\"NMHC(GT)\",\"C6H6(GT)\",\"PT08.S2(NMHC)\",\"NOx(GT)\",\"PT08.S3(NOx)\",\"NO2(GT)\",\"PT08.S4(NO2)\",\"PT08.S5(O3)\",\"T\",\"RH\",\"AH\"])\n",
        "    break;"
      ],
      "execution_count": 7,
      "outputs": [
        {
          "output_type": "display_data",
          "data": {
            "image/png": "[encoded data removed]",
            "text/plain": [
              "<Figure size 1440x1080 with 1 Axes>"
            ]
          },
          "metadata": {
            "needs_background": "light"
          }
        }
      ]
    },
    {
      "cell_type": "code",
      "metadata": {
        "id": "xSMhm5mv9j8w"
      },
      "source": [
        "def outlier_detect(df):\n",
        "    for i in df.describe().columns:\n",
        "        Q1=df.describe().at['25%',i]\n",
        "        Q3=df.describe().at['75%',i]\n",
        "        IQR=Q3 - Q1\n",
        "        LTV=Q1 - 1.5 * IQR\n",
        "        UTV=Q3 + 1.5 * IQR\n",
        "        x=np.array(df[i])\n",
        "        p=[]\n",
        "        for j in x:\n",
        "            if j < LTV or j>UTV:\n",
        "                p.append(df[i].median())\n",
        "            else:\n",
        "                p.append(j)\n",
        "        df[i]=p\n",
        "    return df"
      ],
      "execution_count": 8,
      "outputs": []
    },
    {
      "cell_type": "code",
      "metadata": {
        "colab": {
          "base_uri": "https://localhost:8080/",
          "height": 617
        },
        "id": "Gyu1vscc9u-J",
        "outputId": "64e0a6fe-92e2-4ade-f68b-3b2741cfc9b2"
      },
      "source": [
        "outlier_detect(df)"
      ],
      "execution_count": 9,
      "outputs": [
        {
          "output_type": "execute_result",
          "data": {
            "text/html": [
              "<div>\n",
              "<style scoped>\n",
              "    .dataframe tbody tr th:only-of-type {\n",
              "        vertical-align: middle;\n",
              "    }\n",
              "\n",
              "    .dataframe tbody tr th {\n",
              "        vertical-align: top;\n",
              "    }\n",
              "\n",
              "    .dataframe thead th {\n",
              "        text-align: right;\n",
              "    }\n",
              "</style>\n",
              "<table border=\"1\" class=\"dataframe\">\n",
              "  <thead>\n",
              "    <tr style=\"text-align: right;\">\n",
              "      <th></th>\n",
              "      <th>Date</th>\n",
              "      <th>Time</th>\n",
              "      <th>CO(GT)</th>\n",
              "      <th>PT08.S1(CO)</th>\n",
              "      <th>NMHC(GT)</th>\n",
              "      <th>C6H6(GT)</th>\n",
              "      <th>PT08.S2(NMHC)</th>\n",
              "      <th>NOx(GT)</th>\n",
              "      <th>PT08.S3(NOx)</th>\n",
              "      <th>NO2(GT)</th>\n",
              "      <th>PT08.S4(NO2)</th>\n",
              "      <th>PT08.S5(O3)</th>\n",
              "      <th>T</th>\n",
              "      <th>RH</th>\n",
              "      <th>AH</th>\n",
              "    </tr>\n",
              "  </thead>\n",
              "  <tbody>\n",
              "    <tr>\n",
              "      <th>0</th>\n",
              "      <td>2004-12-13</td>\n",
              "      <td>18:00:00</td>\n",
              "      <td>1.5</td>\n",
              "      <td>1052.5</td>\n",
              "      <td>-200.0</td>\n",
              "      <td>7.886653</td>\n",
              "      <td>894.5</td>\n",
              "      <td>141.0</td>\n",
              "      <td>333.50</td>\n",
              "      <td>96.0</td>\n",
              "      <td>2271.25</td>\n",
              "      <td>942.0</td>\n",
              "      <td>12.625</td>\n",
              "      <td>55.900000</td>\n",
              "      <td>0.814174</td>\n",
              "    </tr>\n",
              "    <tr>\n",
              "      <th>1</th>\n",
              "      <td>2004-11-23</td>\n",
              "      <td>19:00:00</td>\n",
              "      <td>1.5</td>\n",
              "      <td>1052.5</td>\n",
              "      <td>-200.0</td>\n",
              "      <td>7.886653</td>\n",
              "      <td>894.5</td>\n",
              "      <td>141.0</td>\n",
              "      <td>324.50</td>\n",
              "      <td>220.0</td>\n",
              "      <td>1445.50</td>\n",
              "      <td>942.0</td>\n",
              "      <td>12.425</td>\n",
              "      <td>74.699999</td>\n",
              "      <td>1.074080</td>\n",
              "    </tr>\n",
              "    <tr>\n",
              "      <th>2</th>\n",
              "      <td>2004-11-26</td>\n",
              "      <td>18:00:00</td>\n",
              "      <td>1.5</td>\n",
              "      <td>1052.5</td>\n",
              "      <td>-200.0</td>\n",
              "      <td>7.886653</td>\n",
              "      <td>894.5</td>\n",
              "      <td>141.0</td>\n",
              "      <td>347.25</td>\n",
              "      <td>96.0</td>\n",
              "      <td>2338.00</td>\n",
              "      <td>942.0</td>\n",
              "      <td>15.500</td>\n",
              "      <td>62.775000</td>\n",
              "      <td>1.097947</td>\n",
              "    </tr>\n",
              "    <tr>\n",
              "      <th>3</th>\n",
              "      <td>2004-11-23</td>\n",
              "      <td>18:00:00</td>\n",
              "      <td>1.5</td>\n",
              "      <td>1052.5</td>\n",
              "      <td>-200.0</td>\n",
              "      <td>7.886653</td>\n",
              "      <td>894.5</td>\n",
              "      <td>141.0</td>\n",
              "      <td>322.00</td>\n",
              "      <td>227.0</td>\n",
              "      <td>1445.50</td>\n",
              "      <td>942.0</td>\n",
              "      <td>13.150</td>\n",
              "      <td>72.600000</td>\n",
              "      <td>1.093646</td>\n",
              "    </tr>\n",
              "    <tr>\n",
              "      <th>4</th>\n",
              "      <td>2004-11-23</td>\n",
              "      <td>20:00:00</td>\n",
              "      <td>1.5</td>\n",
              "      <td>1052.5</td>\n",
              "      <td>-200.0</td>\n",
              "      <td>7.886653</td>\n",
              "      <td>894.5</td>\n",
              "      <td>141.0</td>\n",
              "      <td>334.50</td>\n",
              "      <td>190.0</td>\n",
              "      <td>1445.50</td>\n",
              "      <td>942.0</td>\n",
              "      <td>11.500</td>\n",
              "      <td>76.225000</td>\n",
              "      <td>1.032431</td>\n",
              "    </tr>\n",
              "    <tr>\n",
              "      <th>...</th>\n",
              "      <td>...</td>\n",
              "      <td>...</td>\n",
              "      <td>...</td>\n",
              "      <td>...</td>\n",
              "      <td>...</td>\n",
              "      <td>...</td>\n",
              "      <td>...</td>\n",
              "      <td>...</td>\n",
              "      <td>...</td>\n",
              "      <td>...</td>\n",
              "      <td>...</td>\n",
              "      <td>...</td>\n",
              "      <td>...</td>\n",
              "      <td>...</td>\n",
              "      <td>...</td>\n",
              "    </tr>\n",
              "    <tr>\n",
              "      <th>9352</th>\n",
              "      <td>2004-09-08</td>\n",
              "      <td>12:00:00</td>\n",
              "      <td>1.5</td>\n",
              "      <td>1052.5</td>\n",
              "      <td>-200.0</td>\n",
              "      <td>7.886653</td>\n",
              "      <td>894.5</td>\n",
              "      <td>-200.0</td>\n",
              "      <td>794.25</td>\n",
              "      <td>96.0</td>\n",
              "      <td>1445.50</td>\n",
              "      <td>942.0</td>\n",
              "      <td>17.200</td>\n",
              "      <td>48.550000</td>\n",
              "      <td>0.976823</td>\n",
              "    </tr>\n",
              "    <tr>\n",
              "      <th>9353</th>\n",
              "      <td>2004-09-08</td>\n",
              "      <td>13:00:00</td>\n",
              "      <td>1.5</td>\n",
              "      <td>1052.5</td>\n",
              "      <td>-200.0</td>\n",
              "      <td>7.886653</td>\n",
              "      <td>894.5</td>\n",
              "      <td>-200.0</td>\n",
              "      <td>794.25</td>\n",
              "      <td>96.0</td>\n",
              "      <td>1445.50</td>\n",
              "      <td>942.0</td>\n",
              "      <td>17.200</td>\n",
              "      <td>48.550000</td>\n",
              "      <td>0.976823</td>\n",
              "    </tr>\n",
              "    <tr>\n",
              "      <th>9354</th>\n",
              "      <td>2004-09-08</td>\n",
              "      <td>14:00:00</td>\n",
              "      <td>1.5</td>\n",
              "      <td>1052.5</td>\n",
              "      <td>-200.0</td>\n",
              "      <td>7.886653</td>\n",
              "      <td>894.5</td>\n",
              "      <td>-200.0</td>\n",
              "      <td>794.25</td>\n",
              "      <td>96.0</td>\n",
              "      <td>1445.50</td>\n",
              "      <td>942.0</td>\n",
              "      <td>17.200</td>\n",
              "      <td>48.550000</td>\n",
              "      <td>0.976823</td>\n",
              "    </tr>\n",
              "    <tr>\n",
              "      <th>9355</th>\n",
              "      <td>2004-09-08</td>\n",
              "      <td>15:00:00</td>\n",
              "      <td>1.5</td>\n",
              "      <td>1052.5</td>\n",
              "      <td>-200.0</td>\n",
              "      <td>7.886653</td>\n",
              "      <td>894.5</td>\n",
              "      <td>-200.0</td>\n",
              "      <td>794.25</td>\n",
              "      <td>96.0</td>\n",
              "      <td>1445.50</td>\n",
              "      <td>942.0</td>\n",
              "      <td>17.200</td>\n",
              "      <td>48.550000</td>\n",
              "      <td>0.976823</td>\n",
              "    </tr>\n",
              "    <tr>\n",
              "      <th>9356</th>\n",
              "      <td>2004-09-08</td>\n",
              "      <td>16:00:00</td>\n",
              "      <td>1.5</td>\n",
              "      <td>1052.5</td>\n",
              "      <td>-200.0</td>\n",
              "      <td>7.886653</td>\n",
              "      <td>894.5</td>\n",
              "      <td>-200.0</td>\n",
              "      <td>794.25</td>\n",
              "      <td>96.0</td>\n",
              "      <td>1445.50</td>\n",
              "      <td>942.0</td>\n",
              "      <td>17.200</td>\n",
              "      <td>48.550000</td>\n",
              "      <td>0.976823</td>\n",
              "    </tr>\n",
              "  </tbody>\n",
              "</table>\n",
              "<p>9357 rows × 15 columns</p>\n",
              "</div>"
            ],
            "text/plain": [
              "           Date      Time  CO(GT)  ...       T         RH        AH\n",
              "0    2004-12-13  18:00:00     1.5  ...  12.625  55.900000  0.814174\n",
              "1    2004-11-23  19:00:00     1.5  ...  12.425  74.699999  1.074080\n",
              "2    2004-11-26  18:00:00     1.5  ...  15.500  62.775000  1.097947\n",
              "3    2004-11-23  18:00:00     1.5  ...  13.150  72.600000  1.093646\n",
              "4    2004-11-23  20:00:00     1.5  ...  11.500  76.225000  1.032431\n",
              "...         ...       ...     ...  ...     ...        ...       ...\n",
              "9352 2004-09-08  12:00:00     1.5  ...  17.200  48.550000  0.976823\n",
              "9353 2004-09-08  13:00:00     1.5  ...  17.200  48.550000  0.976823\n",
              "9354 2004-09-08  14:00:00     1.5  ...  17.200  48.550000  0.976823\n",
              "9355 2004-09-08  15:00:00     1.5  ...  17.200  48.550000  0.976823\n",
              "9356 2004-09-08  16:00:00     1.5  ...  17.200  48.550000  0.976823\n",
              "\n",
              "[9357 rows x 15 columns]"
            ]
          },
          "metadata": {},
          "execution_count": 9
        }
      ]
    },
    {
      "cell_type": "code",
      "metadata": {
        "colab": {
          "base_uri": "https://localhost:8080/",
          "height": 830
        },
        "id": "5N4bYT4D9y-o",
        "outputId": "46559f91-2651-4cfe-aa07-54d03d89e26b"
      },
      "source": [
        "for column in df:\n",
        "    plt.figure(figsize=(20,15))\n",
        "    df.boxplot([\"CO(GT)\",\"PT08.S1(CO)\",\"NMHC(GT)\",\"C6H6(GT)\",\"PT08.S2(NMHC)\",\"NOx(GT)\",\"PT08.S3(NOx)\",\"NO2(GT)\",\"PT08.S4(NO2)\",\"PT08.S5(O3)\",\"T\",\"RH\",\"AH\"])\n",
        "    break;"
      ],
      "execution_count": 10,
      "outputs": [
        {
          "output_type": "display_data",
          "data": {
            "image/png": "[encoded data removed]",
            "text/plain": [
              "<Figure size 1440x1080 with 1 Axes>"
            ]
          },
          "metadata": {
            "needs_background": "light"
          }
        }
      ]
    },
    {
      "cell_type": "code",
      "metadata": {
        "id": "2GvM8gSU950Z"
      },
      "source": [
        "df.to_excel(\"Airquality pre processed linear regression-Nirmal collab.xlsx\")"
      ],
      "execution_count": 11,
      "outputs": []
    },
    {
      "cell_type": "code",
      "metadata": {
        "id": "YJCJIU92_dIh"
      },
      "source": [
        "from google.colab import files"
      ],
      "execution_count": 12,
      "outputs": []
    },
    {
      "cell_type": "code",
      "metadata": {
        "id": "ZwhOd_CoB5ln"
      },
      "source": [
        "df.to_excel(\"Airquality pre processed linear regression-Nirmal collab.xlsx\")"
      ],
      "execution_count": 13,
      "outputs": []
    },
    {
      "cell_type": "code",
      "metadata": {
        "colab": {
          "base_uri": "https://localhost:8080/",
          "height": 17
        },
        "id": "DdfKxFF-B8vG",
        "outputId": "6700297e-dde7-4097-c598-4166e799c702"
      },
      "source": [
        "files.download(\"Airquality pre processed linear regression-Nirmal collab.xlsx\")"
      ],
      "execution_count": 14,
      "outputs": [
        {
          "output_type": "display_data",
          "data": {
            "application/javascript": [
              "\n",
              "    async function download(id, filename, size) {\n",
              "      if (!google.colab.kernel.accessAllowed) {\n",
              "        return;\n",
              "      }\n",
              "      const div = document.createElement('div');\n",
              "      const label = document.createElement('label');\n",
              "      label.textContent = `Downloading \"${filename}\": `;\n",
              "      div.appendChild(label);\n",
              "      const progress = document.createElement('progress');\n",
              "      progress.max = size;\n",
              "      div.appendChild(progress);\n",
              "      document.body.appendChild(div);\n",
              "\n",
              "      const buffers = [];\n",
              "      let downloaded = 0;\n",
              "\n",
              "      const channel = await google.colab.kernel.comms.open(id);\n",
              "      // Send a message to notify the kernel that we're ready.\n",
              "      channel.send({})\n",
              "\n",
              "      for await (const message of channel.messages) {\n",
              "        // Send a message to notify the kernel that we're ready.\n",
              "        channel.send({})\n",
              "        if (message.buffers) {\n",
              "          for (const buffer of message.buffers) {\n",
              "            buffers.push(buffer);\n",
              "            downloaded += buffer.byteLength;\n",
              "            progress.value = downloaded;\n",
              "          }\n",
              "        }\n",
              "      }\n",
              "      const blob = new Blob(buffers, {type: 'application/binary'});\n",
              "      const a = document.createElement('a');\n",
              "      a.href = window.URL.createObjectURL(blob);\n",
              "      a.download = filename;\n",
              "      div.appendChild(a);\n",
              "      a.click();\n",
              "      div.remove();\n",
              "    }\n",
              "  "
            ],
            "text/plain": [
              "<IPython.core.display.Javascript object>"
            ]
          },
          "metadata": {}
        },
        {
          "output_type": "display_data",
          "data": {
            "application/javascript": [
              "download(\"download_2b987de0-fff6-4298-917c-305eae1e6d8d\", \"Airquality pre processed linear regression-Nirmal collab.xlsx\", 996810)"
            ],
            "text/plain": [
              "<IPython.core.display.Javascript object>"
            ]
          },
          "metadata": {}
        }
      ]
    },
    {
      "cell_type": "code",
      "metadata": {
        "id": "0-a8zOsNCJWO"
      },
      "source": [
        ""
      ],
      "execution_count": null,
      "outputs": []
    }
  ]
}